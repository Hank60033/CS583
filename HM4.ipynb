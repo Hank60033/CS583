{
 "cells": [
  {
   "cell_type": "code",
   "execution_count": 16,
   "metadata": {
    "colab": {
     "base_uri": "https://localhost:8080/",
     "height": 34
    },
    "colab_type": "code",
    "id": "Hbe447EujSkF",
    "outputId": "40ed55e3-0f49-427e-fecd-7b1ff8e4e044"
   },
   "outputs": [
    {
     "name": "stdout",
     "output_type": "stream",
     "text": [
      "Drive already mounted at /content/drive; to attempt to forcibly remount, call drive.mount(\"/content/drive\", force_remount=True).\n"
     ]
    }
   ],
   "source": [
    "from google.colab import drive\n",
    "drive.mount('/content/drive')"
   ]
  },
  {
   "cell_type": "markdown",
   "metadata": {
    "colab_type": "text",
    "id": "I1CkERMiuJZ2"
   },
   "source": [
    "# Home 4: Build a seq2seq model for machine translation.\n",
    "\n",
    "### Name: [Jhao-Han Chen]\n",
    "\n",
    "### Task: Translate English to [Spanish]"
   ]
  },
  {
   "cell_type": "markdown",
   "metadata": {
    "colab_type": "text",
    "id": "F2r1PNLRuJaJ"
   },
   "source": [
    "## 0. You will do the following:\n",
    "\n",
    "1. Read and run my code.\n",
    "2. Complete the code in Section 1.1 and Section 4.2.\n",
    "\n",
    "    * Translation English to **German** is not acceptable!!! Try another language.\n",
    "    \n",
    "3. **Make improvements.** Directly modify the code in Section 3. Do at least one of the followings. By doing more, you will get up to 2 bonus scores to the total.\n",
    "\n",
    "    * Bi-LSTM instead of LSTM\n",
    "    \n",
    "    * Multi-task learning (e.g., both English to French and English to Spanish)\n",
    "    \n",
    "    * Attention\n",
    "    \n",
    "4. Evaluate the translation using the BLEU score. \n",
    "\n",
    "    * Optional. Up to 1 bonus scores to the total.\n",
    "    \n",
    "5. Convert the notebook to .HTML file. \n",
    "\n",
    "    * The HTML file must contain the code and the output after execution.\n",
    "\n",
    "6. Put the .HTML file in your own Github repo. \n",
    "\n",
    "7. Submit the link to the HTML file to Canvas.    \n"
   ]
  },
  {
   "cell_type": "markdown",
   "metadata": {
    "colab_type": "text",
    "id": "lrMUD0KYuJaL"
   },
   "source": [
    "### Hint: \n",
    "\n",
    "To implement ```Bi-LSTM```, you will need the following code to build the encoder; the decoder won't be much different."
   ]
  },
  {
   "cell_type": "code",
   "execution_count": 0,
   "metadata": {
    "colab": {},
    "colab_type": "code",
    "id": "qwEs2P4CuJaM"
   },
   "outputs": [],
   "source": [
    "from keras.layers import Bidirectional, Concatenate\n",
    "\n",
    "encoder_bilstm = Bidirectional(LSTM(latent_dim, return_state=True, \n",
    "                                  dropout=0.5, name='encoder_lstm'))\n",
    "_, forward_h, forward_c, backward_h, backward_c = encoder_bilstm(encoder_inputs)\n",
    "\n",
    "state_h = Concatenate()([forward_h, backward_h])\n",
    "state_c = Concatenate()([forward_c, backward_c])"
   ]
  },
  {
   "cell_type": "markdown",
   "metadata": {
    "colab_type": "text",
    "id": "tos4ZDyjuJaW"
   },
   "source": [
    "### Hint: \n",
    "\n",
    "To implement multi-task training, you can refer to ```Section 7.1.3 Multi-output models``` of the textbook, ```Deep Learning with Python```."
   ]
  },
  {
   "cell_type": "markdown",
   "metadata": {
    "colab_type": "text",
    "id": "mJ8Sv9IeuJaX"
   },
   "source": [
    "## 1. Data preparation\n",
    "\n",
    "1. Download data (e.g., \"deu-eng.zip\") from http://www.manythings.org/anki/\n",
    "2. Unzip the .ZIP file.\n",
    "3. Put the .TXT file (e.g., \"deu.txt\") in the directory \"./Data/\"."
   ]
  },
  {
   "cell_type": "markdown",
   "metadata": {
    "colab_type": "text",
    "id": "61JvCBMPuJaX"
   },
   "source": [
    "### 1.1. Load and clean text\n"
   ]
  },
  {
   "cell_type": "code",
   "execution_count": 0,
   "metadata": {
    "colab": {},
    "colab_type": "code",
    "id": "z5LxSVNCuJaY"
   },
   "outputs": [],
   "source": [
    "import re\n",
    "import string\n",
    "from unicodedata import normalize\n",
    "import numpy\n",
    "\n",
    "# load doc into memory\n",
    "def load_doc(filename):\n",
    "    # open the file as read only\n",
    "    file = open(filename, mode='rt', encoding='utf-8')\n",
    "    # read all text\n",
    "    text = file.read()\n",
    "    # close the file\n",
    "    file.close()\n",
    "    return text\n",
    "\n",
    "\n",
    "# split a loaded document into sentences\n",
    "def to_pairs(doc):\n",
    "    lines = doc.strip().split('\\n')\n",
    "    pairs = [line.split('\\t') for line in  lines]\n",
    "    return pairs\n",
    "\n",
    "def clean_data(lines):\n",
    "    cleaned = list()\n",
    "    # prepare regex for char filtering\n",
    "    re_print = re.compile('[^%s]' % re.escape(string.printable))\n",
    "    # prepare translation table for removing punctuation\n",
    "    table = str.maketrans('', '', string.punctuation)\n",
    "    for pair in lines:\n",
    "        clean_pair = list()\n",
    "        for line in pair:\n",
    "            # normalize unicode characters\n",
    "            line = normalize('NFD', line).encode('ascii', 'ignore')\n",
    "            line = line.decode('UTF-8')\n",
    "            # tokenize on white space\n",
    "            line = line.split()\n",
    "            # convert to lowercase\n",
    "            line = [word.lower() for word in line]\n",
    "            # remove punctuation from each token\n",
    "            line = [word.translate(table) for word in line]\n",
    "            # remove non-printable chars form each token\n",
    "            line = [re_print.sub('', w) for w in line]\n",
    "            # remove tokens with numbers in them\n",
    "            line = [word for word in line if word.isalpha()]\n",
    "            # store as string\n",
    "            clean_pair.append(' '.join(line))\n",
    "        cleaned.append(clean_pair)\n",
    "    return numpy.array(cleaned)"
   ]
  },
  {
   "cell_type": "markdown",
   "metadata": {
    "colab_type": "text",
    "id": "PYosY4uzuJaw"
   },
   "source": [
    "#### Fill the following blanks:"
   ]
  },
  {
   "cell_type": "code",
   "execution_count": 0,
   "metadata": {
    "colab": {},
    "colab_type": "code",
    "id": "zwB4QAq4uJay"
   },
   "outputs": [],
   "source": [
    "# e.g., filename = 'Data/deu.txt'\n",
    "filename = '/content/drive/My Drive/spa.txt'\n",
    "\n",
    "# e.g., n_train = 20000\n",
    "n_train = 100000"
   ]
  },
  {
   "cell_type": "code",
   "execution_count": 0,
   "metadata": {
    "colab": {},
    "colab_type": "code",
    "id": "W5S4HtMOuJa4"
   },
   "outputs": [],
   "source": [
    "# load dataset\n",
    "doc = load_doc(filename)\n",
    "\n",
    "# split into Language1-Language2 pairs\n",
    "pairs = to_pairs(doc)\n",
    "\n",
    "# clean sentences\n",
    "clean_pairs = clean_data(pairs)[0:n_train, :]"
   ]
  },
  {
   "cell_type": "code",
   "execution_count": 5,
   "metadata": {
    "colab": {
     "base_uri": "https://localhost:8080/",
     "height": 187
    },
    "colab_type": "code",
    "id": "M1mrYwgWuJa-",
    "outputId": "b4fe5191-c48d-4dd8-f71e-6060a322370e"
   },
   "outputs": [
    {
     "name": "stdout",
     "output_type": "stream",
     "text": [
      "[i loved that] => [eso me gusto]\n",
      "[i loved that] => [eso me gustaba]\n",
      "[i loved that] => [a mi me gustaba eso]\n",
      "[i made a bet] => [hice una apuesta]\n",
      "[i made these] => [yo hice estos]\n",
      "[i made these] => [estos los hice yo]\n",
      "[i misled tom] => [yo engane a tom]\n",
      "[i missed you] => [te eche de menos]\n",
      "[i missed you] => [te extrane]\n",
      "[i need a cab] => [necesito un taxi]\n"
     ]
    }
   ],
   "source": [
    "for i in range(3000, 3010):\n",
    "    print('[' + clean_pairs[i, 0] + '] => [' + clean_pairs[i, 1] + ']')"
   ]
  },
  {
   "cell_type": "code",
   "execution_count": 6,
   "metadata": {
    "colab": {
     "base_uri": "https://localhost:8080/",
     "height": 51
    },
    "colab_type": "code",
    "id": "K9ggim3IuJbD",
    "outputId": "43eb68bf-d44e-48b5-8f51-c6dbbea2ec72"
   },
   "outputs": [
    {
     "name": "stdout",
     "output_type": "stream",
     "text": [
      "Length of input_texts:  (100000,)\n",
      "Length of target_texts: (100000,)\n"
     ]
    }
   ],
   "source": [
    "input_texts = clean_pairs[:, 0]\n",
    "target_texts = ['\\t' + text + '\\n' for text in clean_pairs[:, 1]]\n",
    "\n",
    "print('Length of input_texts:  ' + str(input_texts.shape))\n",
    "print('Length of target_texts: ' + str(input_texts.shape))"
   ]
  },
  {
   "cell_type": "code",
   "execution_count": 7,
   "metadata": {
    "colab": {
     "base_uri": "https://localhost:8080/",
     "height": 51
    },
    "colab_type": "code",
    "id": "JIOuryiauJbI",
    "outputId": "592f7685-2139-409e-e165-a303c1d8a48b"
   },
   "outputs": [
    {
     "name": "stdout",
     "output_type": "stream",
     "text": [
      "max length of input  sentences: 41\n",
      "max length of target sentences: 75\n"
     ]
    }
   ],
   "source": [
    "max_encoder_seq_length = max(len(line) for line in input_texts)\n",
    "max_decoder_seq_length = max(len(line) for line in target_texts)\n",
    "\n",
    "print('max length of input  sentences: %d' % (max_encoder_seq_length))\n",
    "print('max length of target sentences: %d' % (max_decoder_seq_length))"
   ]
  },
  {
   "cell_type": "markdown",
   "metadata": {
    "colab_type": "text",
    "id": "u51wPdrKuJbL"
   },
   "source": [
    "**Remark:** To this end, you have two lists of sentences: input_texts and target_texts"
   ]
  },
  {
   "cell_type": "markdown",
   "metadata": {
    "colab_type": "text",
    "id": "jQF4uZFYuJbM"
   },
   "source": [
    "## 2. Text processing\n",
    "\n",
    "### 2.1. Convert texts to sequences\n",
    "\n",
    "- Input: A list of $n$ sentences (with max length $t$).\n",
    "- It is represented by a $n\\times t$ matrix after the tokenization and zero-padding."
   ]
  },
  {
   "cell_type": "code",
   "execution_count": 8,
   "metadata": {
    "colab": {
     "base_uri": "https://localhost:8080/",
     "height": 148
    },
    "colab_type": "code",
    "id": "Irfg6yTbuJbO",
    "outputId": "fb81ee27-97d1-483e-a224-e785f41da2f0"
   },
   "outputs": [
    {
     "name": "stderr",
     "output_type": "stream",
     "text": [
      "Using TensorFlow backend.\n"
     ]
    },
    {
     "data": {
      "text/html": [
       "<p style=\"color: red;\">\n",
       "The default version of TensorFlow in Colab will soon switch to TensorFlow 2.x.<br>\n",
       "We recommend you <a href=\"https://www.tensorflow.org/guide/migrate\" target=\"_blank\">upgrade</a> now \n",
       "or ensure your notebook will continue to use TensorFlow 1.x via the <code>%tensorflow_version 1.x</code> magic:\n",
       "<a href=\"https://colab.research.google.com/notebooks/tensorflow_version.ipynb\" target=\"_blank\">more info</a>.</p>\n"
      ],
      "text/plain": [
       "<IPython.core.display.HTML object>"
      ]
     },
     "metadata": {
      "tags": []
     },
     "output_type": "display_data"
    },
    {
     "name": "stdout",
     "output_type": "stream",
     "text": [
      "shape of encoder_input_seq: (100000, 41)\n",
      "shape of input_token_index: 27\n",
      "shape of decoder_input_seq: (100000, 75)\n",
      "shape of target_token_index: 29\n"
     ]
    }
   ],
   "source": [
    "from keras.preprocessing.text import Tokenizer\n",
    "from keras.preprocessing.sequence import pad_sequences\n",
    "\n",
    "# encode and pad sequences\n",
    "def text2sequences(max_len, lines):\n",
    "    tokenizer = Tokenizer(char_level=True, filters='')\n",
    "    tokenizer.fit_on_texts(lines)\n",
    "    seqs = tokenizer.texts_to_sequences(lines)\n",
    "    seqs_pad = pad_sequences(seqs, maxlen=max_len, padding='post')\n",
    "    return seqs_pad, tokenizer.word_index\n",
    "\n",
    "\n",
    "encoder_input_seq, input_token_index = text2sequences(max_encoder_seq_length, \n",
    "                                                      input_texts)\n",
    "decoder_input_seq, target_token_index = text2sequences(max_decoder_seq_length, \n",
    "                                                       target_texts)\n",
    "\n",
    "print('shape of encoder_input_seq: ' + str(encoder_input_seq.shape))\n",
    "print('shape of input_token_index: ' + str(len(input_token_index)))\n",
    "print('shape of decoder_input_seq: ' + str(decoder_input_seq.shape))\n",
    "print('shape of target_token_index: ' + str(len(target_token_index)))"
   ]
  },
  {
   "cell_type": "code",
   "execution_count": 9,
   "metadata": {
    "colab": {
     "base_uri": "https://localhost:8080/",
     "height": 51
    },
    "colab_type": "code",
    "id": "LjC0OBC0uJbY",
    "outputId": "45e09b72-7ffe-4c7f-c627-5cc4cc89f71b"
   },
   "outputs": [
    {
     "name": "stdout",
     "output_type": "stream",
     "text": [
      "num_encoder_tokens: 28\n",
      "num_decoder_tokens: 30\n"
     ]
    }
   ],
   "source": [
    "\n",
    "num_encoder_tokens = len(input_token_index) + 1\n",
    "num_decoder_tokens = len(target_token_index) + 1\n",
    "\n",
    "print('num_encoder_tokens: ' + str(num_encoder_tokens))\n",
    "print('num_decoder_tokens: ' + str(num_decoder_tokens))"
   ]
  },
  {
   "cell_type": "markdown",
   "metadata": {
    "colab_type": "text",
    "id": "31KNMEDnuJbj"
   },
   "source": [
    "**Remark:** To this end, the input language and target language texts are converted to 2 matrices. \n",
    "\n",
    "- Their number of rows are both n_train.\n",
    "- Their number of columns are respective max_encoder_seq_length and max_decoder_seq_length."
   ]
  },
  {
   "cell_type": "markdown",
   "metadata": {
    "colab_type": "text",
    "id": "dVWeEIGJuJbl"
   },
   "source": [
    "The followings print a sentence and its representation as a sequence."
   ]
  },
  {
   "cell_type": "code",
   "execution_count": 10,
   "metadata": {
    "colab": {
     "base_uri": "https://localhost:8080/",
     "height": 34
    },
    "colab_type": "code",
    "id": "JiU4YAvBuJbm",
    "outputId": "5d0c57fc-4f68-49d2-e6ac-fbdfc45f6649"
   },
   "outputs": [
    {
     "data": {
      "text/plain": [
       "'\\tsed buenas\\n'"
      ]
     },
     "execution_count": 10,
     "metadata": {
      "tags": []
     },
     "output_type": "execute_result"
    }
   ],
   "source": [
    "target_texts[100]"
   ]
  },
  {
   "cell_type": "code",
   "execution_count": 11,
   "metadata": {
    "colab": {
     "base_uri": "https://localhost:8080/",
     "height": 102
    },
    "colab_type": "code",
    "id": "u4pngjhKuJbp",
    "outputId": "8b6c3b3e-42df-48f8-f718-4b4b6d7b271b"
   },
   "outputs": [
    {
     "data": {
      "text/plain": [
       "array([12,  5,  2, 14,  1, 18, 11,  2,  6,  3,  5, 13,  0,  0,  0,  0,  0,\n",
       "        0,  0,  0,  0,  0,  0,  0,  0,  0,  0,  0,  0,  0,  0,  0,  0,  0,\n",
       "        0,  0,  0,  0,  0,  0,  0,  0,  0,  0,  0,  0,  0,  0,  0,  0,  0,\n",
       "        0,  0,  0,  0,  0,  0,  0,  0,  0,  0,  0,  0,  0,  0,  0,  0,  0,\n",
       "        0,  0,  0,  0,  0,  0,  0], dtype=int32)"
      ]
     },
     "execution_count": 11,
     "metadata": {
      "tags": []
     },
     "output_type": "execute_result"
    }
   ],
   "source": [
    "decoder_input_seq[100, :]"
   ]
  },
  {
   "cell_type": "markdown",
   "metadata": {
    "colab_type": "text",
    "id": "livTBnVfuJb7"
   },
   "source": [
    "## 2.2. One-hot encode\n",
    "\n",
    "- Input: A list of $n$ sentences (with max length $t$).\n",
    "- It is represented by a $n\\times t$ matrix after the tokenization and zero-padding.\n",
    "- It is represented by a $n\\times t \\times v$ tensor ($t$ is the number of unique chars) after the one-hot encoding."
   ]
  },
  {
   "cell_type": "code",
   "execution_count": 12,
   "metadata": {
    "colab": {
     "base_uri": "https://localhost:8080/",
     "height": 51
    },
    "colab_type": "code",
    "id": "GzHv0TYVuJb9",
    "outputId": "49027a3a-e579-4caa-bfe4-66087f9ee9bd"
   },
   "outputs": [
    {
     "name": "stdout",
     "output_type": "stream",
     "text": [
      "(100000, 41, 28)\n",
      "(100000, 75, 30)\n"
     ]
    }
   ],
   "source": [
    "from keras.utils import to_categorical\n",
    "\n",
    "# one hot encode target sequence\n",
    "def onehot_encode(sequences, max_len, vocab_size):\n",
    "    n = len(sequences)\n",
    "    data = numpy.zeros((n, max_len, vocab_size))\n",
    "    for i in range(n):\n",
    "        data[i, :, :] = to_categorical(sequences[i], num_classes=vocab_size)\n",
    "    return data\n",
    "\n",
    "encoder_input_data = onehot_encode(encoder_input_seq, max_encoder_seq_length, num_encoder_tokens)\n",
    "decoder_input_data = onehot_encode(decoder_input_seq, max_decoder_seq_length, num_decoder_tokens)\n",
    "\n",
    "decoder_target_seq = numpy.zeros(decoder_input_seq.shape)\n",
    "decoder_target_seq[:, 0:-1] = decoder_input_seq[:, 1:]\n",
    "decoder_target_data = onehot_encode(decoder_target_seq, \n",
    "                                    max_decoder_seq_length, \n",
    "                                    num_decoder_tokens)\n",
    "\n",
    "print(encoder_input_data.shape)\n",
    "print(decoder_input_data.shape)"
   ]
  },
  {
   "cell_type": "markdown",
   "metadata": {
    "colab_type": "text",
    "id": "TK5BYpczuJcB"
   },
   "source": [
    "## 3. Build the networks (for training)\n",
    "\n",
    "- Build encoder, decoder, and connect the two modules to get \"model\". \n",
    "\n",
    "- Fit the model on the bilingual data to train the parameters in the encoder and decoder."
   ]
  },
  {
   "cell_type": "markdown",
   "metadata": {
    "colab_type": "text",
    "id": "lbT48kuguJcH"
   },
   "source": [
    "### 3.1. Encoder network\n",
    "\n",
    "- Input:  one-hot encode of the input language\n",
    "\n",
    "- Return: \n",
    "\n",
    "    -- output (all the hidden states   $h_1, \\cdots , h_t$) are always discarded\n",
    "    \n",
    "    -- the final hidden state  $h_t$\n",
    "    \n",
    "    -- the final conveyor belt $c_t$"
   ]
  },
  {
   "cell_type": "code",
   "execution_count": 13,
   "metadata": {
    "colab": {
     "base_uri": "https://localhost:8080/",
     "height": 224
    },
    "colab_type": "code",
    "id": "ILB0fDTHuJcI",
    "outputId": "a5c972e0-ef9a-44c6-93b5-a98c5379b4bc"
   },
   "outputs": [
    {
     "name": "stdout",
     "output_type": "stream",
     "text": [
      "WARNING:tensorflow:From /usr/local/lib/python3.6/dist-packages/keras/backend/tensorflow_backend.py:541: The name tf.placeholder is deprecated. Please use tf.compat.v1.placeholder instead.\n",
      "\n",
      "WARNING:tensorflow:From /usr/local/lib/python3.6/dist-packages/keras/backend/tensorflow_backend.py:66: The name tf.get_default_graph is deprecated. Please use tf.compat.v1.get_default_graph instead.\n",
      "\n",
      "WARNING:tensorflow:From /usr/local/lib/python3.6/dist-packages/keras/backend/tensorflow_backend.py:4432: The name tf.random_uniform is deprecated. Please use tf.random.uniform instead.\n",
      "\n",
      "WARNING:tensorflow:From /usr/local/lib/python3.6/dist-packages/keras/backend/tensorflow_backend.py:148: The name tf.placeholder_with_default is deprecated. Please use tf.compat.v1.placeholder_with_default instead.\n",
      "\n",
      "WARNING:tensorflow:From /usr/local/lib/python3.6/dist-packages/keras/backend/tensorflow_backend.py:3733: calling dropout (from tensorflow.python.ops.nn_ops) with keep_prob is deprecated and will be removed in a future version.\n",
      "Instructions for updating:\n",
      "Please use `rate` instead of `keep_prob`. Rate should be set to `rate = 1 - keep_prob`.\n"
     ]
    }
   ],
   "source": [
    "from keras.layers import Bidirectional, Concatenate\n",
    "from keras.layers import Input, LSTM\n",
    "from keras.models import Model\n",
    "\n",
    "latent_dim = 256\n",
    "\n",
    "# inputs of the encoder network\n",
    "encoder_inputs = Input(shape=(None, num_encoder_tokens), \n",
    "                       name='encoder_inputs')\n",
    "\n",
    "# set the LSTM layer\n",
    "encoder_bilstm = Bidirectional(LSTM(latent_dim, return_state=True, \n",
    "                    dropout=0.5, name='encoder_lstm'))\n",
    "_, forward_h, forward_c, backward_h, backward_c = encoder_bilstm(encoder_inputs)\n",
    "\n",
    "state_h = Concatenate()([forward_h, backward_h])\n",
    "state_c = Concatenate()([forward_c, backward_c])\n",
    "# build the encoder network model\n",
    "encoder_model = Model(inputs=encoder_inputs, \n",
    "                      outputs=[state_h, state_c],\n",
    "                      name='encoder')"
   ]
  },
  {
   "cell_type": "markdown",
   "metadata": {
    "colab_type": "text",
    "id": "NvRpkH5muJcZ"
   },
   "source": [
    "Print a summary and save the encoder network structure to \"./encoder.pdf\""
   ]
  },
  {
   "cell_type": "code",
   "execution_count": 14,
   "metadata": {
    "colab": {
     "base_uri": "https://localhost:8080/",
     "height": 323
    },
    "colab_type": "code",
    "id": "CRF1UFTwuJca",
    "outputId": "ef0f39f5-d040-4004-93dd-34163016a685"
   },
   "outputs": [
    {
     "name": "stdout",
     "output_type": "stream",
     "text": [
      "Model: \"encoder\"\n",
      "__________________________________________________________________________________________________\n",
      "Layer (type)                    Output Shape         Param #     Connected to                     \n",
      "==================================================================================================\n",
      "encoder_inputs (InputLayer)     (None, None, 28)     0                                            \n",
      "__________________________________________________________________________________________________\n",
      "bidirectional_1 (Bidirectional) [(None, 512), (None, 583680      encoder_inputs[0][0]             \n",
      "__________________________________________________________________________________________________\n",
      "concatenate_1 (Concatenate)     (None, 512)          0           bidirectional_1[0][1]            \n",
      "                                                                 bidirectional_1[0][3]            \n",
      "__________________________________________________________________________________________________\n",
      "concatenate_2 (Concatenate)     (None, 512)          0           bidirectional_1[0][2]            \n",
      "                                                                 bidirectional_1[0][4]            \n",
      "==================================================================================================\n",
      "Total params: 583,680\n",
      "Trainable params: 583,680\n",
      "Non-trainable params: 0\n",
      "__________________________________________________________________________________________________\n"
     ]
    }
   ],
   "source": [
    "from IPython.display import SVG\n",
    "from keras.utils.vis_utils import model_to_dot, plot_model\n",
    "\n",
    "SVG(model_to_dot(encoder_model, show_shapes=False).create(prog='dot', format='svg'))\n",
    "\n",
    "plot_model(\n",
    "    model=encoder_model, show_shapes=False,\n",
    "    to_file='encoder.png'\n",
    ")\n",
    "\n",
    "encoder_model.summary()"
   ]
  },
  {
   "cell_type": "markdown",
   "metadata": {
    "colab_type": "text",
    "id": "UV1dLIjquJce"
   },
   "source": [
    "### 3.2. Decoder network\n",
    "\n",
    "- Inputs:  \n",
    "\n",
    "    -- one-hot encode of the target language\n",
    "    \n",
    "    -- The initial hidden state $h_t$ \n",
    "    \n",
    "    -- The initial conveyor belt $c_t$ \n",
    "\n",
    "- Return: \n",
    "\n",
    "    -- output (all the hidden states) $h_1, \\cdots , h_t$\n",
    "\n",
    "    -- the final hidden state  $h_t$ (discarded in the training and used in the prediction)\n",
    "    \n",
    "    -- the final conveyor belt $c_t$ (discarded in the training and used in the prediction)"
   ]
  },
  {
   "cell_type": "code",
   "execution_count": 0,
   "metadata": {
    "colab": {},
    "colab_type": "code",
    "id": "zPw9TLfpuJcf"
   },
   "outputs": [],
   "source": [
    "from keras.layers import Input, LSTM, Dense\n",
    "from keras.models import Model\n",
    "\n",
    "# inputs of the decoder network\n",
    "decoder_input_h = Input(shape=(2*latent_dim,), name='decoder_input_h')\n",
    "decoder_input_c = Input(shape=(2*latent_dim,), name='decoder_input_c')\n",
    "decoder_input_x = Input(shape=(None, num_decoder_tokens), name='decoder_input_x')\n",
    "\n",
    "# set the LSTM layer\n",
    "decoder_lstm = LSTM(latent_dim*2, return_sequences=True, \n",
    "                    return_state=True, dropout=0.5, name='decoder_lstm')\n",
    "decoder_lstm_outputs, state_h_, state_c_ = decoder_lstm(decoder_input_x, \n",
    "                                                      initial_state=[decoder_input_h, decoder_input_c])\n",
    "\n",
    "# state_h = Concatenate()([forward_h, backward_h])\n",
    "# state_c = Concatenate()([forward_c, backward_c])\n",
    "# set the dense layer\n",
    "decoder_dense = Dense(num_decoder_tokens, activation='softmax', name='decoder_dense')\n",
    "decoder_outputs = decoder_dense(decoder_lstm_outputs)\n",
    "\n",
    "# build the decoder network model\n",
    "decoder_model = Model(inputs=[decoder_input_x, decoder_input_h, decoder_input_c],\n",
    "                      outputs=[decoder_outputs, state_h_, state_c_],\n",
    "                      name='decoder')"
   ]
  },
  {
   "cell_type": "markdown",
   "metadata": {
    "colab_type": "text",
    "id": "rMTy-VjhuJcw"
   },
   "source": [
    "Print a summary and save the encoder network structure to \"./decoder.pdf\""
   ]
  },
  {
   "cell_type": "code",
   "execution_count": 16,
   "metadata": {
    "colab": {
     "base_uri": "https://localhost:8080/",
     "height": 357
    },
    "colab_type": "code",
    "id": "FS-FS05VuJcy",
    "outputId": "00177677-9902-4b24-ef6e-6d2d496ea8b1"
   },
   "outputs": [
    {
     "name": "stdout",
     "output_type": "stream",
     "text": [
      "Model: \"decoder\"\n",
      "__________________________________________________________________________________________________\n",
      "Layer (type)                    Output Shape         Param #     Connected to                     \n",
      "==================================================================================================\n",
      "decoder_input_x (InputLayer)    (None, None, 30)     0                                            \n",
      "__________________________________________________________________________________________________\n",
      "decoder_input_h (InputLayer)    (None, 512)          0                                            \n",
      "__________________________________________________________________________________________________\n",
      "decoder_input_c (InputLayer)    (None, 512)          0                                            \n",
      "__________________________________________________________________________________________________\n",
      "decoder_lstm (LSTM)             [(None, None, 512),  1112064     decoder_input_x[0][0]            \n",
      "                                                                 decoder_input_h[0][0]            \n",
      "                                                                 decoder_input_c[0][0]            \n",
      "__________________________________________________________________________________________________\n",
      "decoder_dense (Dense)           (None, None, 30)     15390       decoder_lstm[0][0]               \n",
      "==================================================================================================\n",
      "Total params: 1,127,454\n",
      "Trainable params: 1,127,454\n",
      "Non-trainable params: 0\n",
      "__________________________________________________________________________________________________\n"
     ]
    }
   ],
   "source": [
    "from IPython.display import SVG\n",
    "from keras.utils.vis_utils import model_to_dot, plot_model\n",
    "\n",
    "SVG(model_to_dot(decoder_model, show_shapes=False).create(prog='dot', format='svg'))\n",
    "\n",
    "plot_model(\n",
    "    model=decoder_model, show_shapes=False,\n",
    "    to_file='decoder.png'\n",
    ")\n",
    "\n",
    "decoder_model.summary()"
   ]
  },
  {
   "cell_type": "markdown",
   "metadata": {
    "colab_type": "text",
    "id": "2pxhNqIiuJc7"
   },
   "source": [
    "### 3.3. Connect the encoder and decoder"
   ]
  },
  {
   "cell_type": "code",
   "execution_count": 0,
   "metadata": {
    "colab": {},
    "colab_type": "code",
    "id": "9hg4uVGXuJc8"
   },
   "outputs": [],
   "source": [
    "# input layers\n",
    "encoder_input_x = Input(shape=(None, num_encoder_tokens), name='encoder_input_x')\n",
    "decoder_input_x = Input(shape=(None, num_decoder_tokens), name='decoder_input_x')\n",
    "\n",
    "# connect encoder to decoder\n",
    "encoder_final_states = encoder_model([encoder_input_x])\n",
    "decoder_lstm_output, _, _ = decoder_lstm(decoder_input_x, initial_state=encoder_final_states)\n",
    "decoder_pred = decoder_dense(decoder_lstm_output)\n",
    "\n",
    "model = Model(inputs=[encoder_input_x, decoder_input_x], \n",
    "              outputs=decoder_pred, \n",
    "              name='model_training')"
   ]
  },
  {
   "cell_type": "code",
   "execution_count": 16,
   "metadata": {
    "colab": {
     "base_uri": "https://localhost:8080/",
     "height": 51
    },
    "colab_type": "code",
    "id": "Di3nwfFZuJdE",
    "outputId": "143f9610-106d-4d91-c8bf-e4d1796c1cb6"
   },
   "outputs": [
    {
     "name": "stdout",
     "output_type": "stream",
     "text": [
      "Tensor(\"concatenate_1/concat:0\", shape=(?, 512), dtype=float32)\n",
      "Tensor(\"decoder_input_h:0\", shape=(?, 512), dtype=float32)\n"
     ]
    }
   ],
   "source": [
    "print(state_h)\n",
    "print(decoder_input_h)"
   ]
  },
  {
   "cell_type": "code",
   "execution_count": 19,
   "metadata": {
    "colab": {
     "base_uri": "https://localhost:8080/",
     "height": 357
    },
    "colab_type": "code",
    "id": "pEdrNelpuJdM",
    "outputId": "0debc898-d2ec-438e-b502-df5e33faa4a9"
   },
   "outputs": [
    {
     "name": "stdout",
     "output_type": "stream",
     "text": [
      "Model: \"model_training\"\n",
      "__________________________________________________________________________________________________\n",
      "Layer (type)                    Output Shape         Param #     Connected to                     \n",
      "==================================================================================================\n",
      "encoder_input_x (InputLayer)    (None, None, 28)     0                                            \n",
      "__________________________________________________________________________________________________\n",
      "decoder_input_x (InputLayer)    (None, None, 30)     0                                            \n",
      "__________________________________________________________________________________________________\n",
      "encoder (Model)                 [(None, 512), (None, 583680      encoder_input_x[0][0]            \n",
      "__________________________________________________________________________________________________\n",
      "decoder_lstm (LSTM)             [(None, None, 512),  1112064     decoder_input_x[0][0]            \n",
      "                                                                 encoder[1][0]                    \n",
      "                                                                 encoder[1][1]                    \n",
      "__________________________________________________________________________________________________\n",
      "decoder_dense (Dense)           (None, None, 30)     15390       decoder_lstm[1][0]               \n",
      "==================================================================================================\n",
      "Total params: 1,711,134\n",
      "Trainable params: 1,711,134\n",
      "Non-trainable params: 0\n",
      "__________________________________________________________________________________________________\n"
     ]
    }
   ],
   "source": [
    "from IPython.display import SVG\n",
    "from keras.utils.vis_utils import model_to_dot, plot_model\n",
    "\n",
    "SVG(model_to_dot(model, show_shapes=False).create(prog='dot', format='svg'))\n",
    "\n",
    "plot_model(\n",
    "    model=model, show_shapes=False,\n",
    "    to_file='model_training.png'\n",
    ")\n",
    "\n",
    "model.summary()"
   ]
  },
  {
   "cell_type": "markdown",
   "metadata": {
    "colab_type": "text",
    "id": "itpf05UpuJdS"
   },
   "source": [
    "### 3.5. Fit the model on the bilingual dataset\n",
    "\n",
    "- encoder_input_data: one-hot encode of the input language\n",
    "\n",
    "- decoder_input_data: one-hot encode of the input language\n",
    "\n",
    "- decoder_target_data: labels (left shift of decoder_input_data)\n",
    "\n",
    "- tune the hyper-parameters\n",
    "\n",
    "- stop when the validation loss stop decreasing."
   ]
  },
  {
   "cell_type": "code",
   "execution_count": 0,
   "metadata": {
    "colab": {
     "base_uri": "https://localhost:8080/",
     "height": 68
    },
    "colab_type": "code",
    "id": "w2mVOduYuJdT",
    "outputId": "da994198-aa6d-49a1-ae4f-689bcc204256"
   },
   "outputs": [
    {
     "name": "stdout",
     "output_type": "stream",
     "text": [
      "shape of encoder_input_data(100000, 41, 28)\n",
      "shape of decoder_input_data(100000, 75, 30)\n",
      "shape of decoder_target_data(100000, 75, 30)\n"
     ]
    }
   ],
   "source": [
    "print('shape of encoder_input_data' + str(encoder_input_data.shape))\n",
    "print('shape of decoder_input_data' + str(decoder_input_data.shape))\n",
    "print('shape of decoder_target_data' + str(decoder_target_data.shape))"
   ]
  },
  {
   "cell_type": "code",
   "execution_count": 0,
   "metadata": {
    "colab": {
     "base_uri": "https://localhost:8080/",
     "height": 1000
    },
    "colab_type": "code",
    "id": "3rdiMV4JuJdY",
    "outputId": "945224d8-921b-4e9f-ca28-d591633ad8e0"
   },
   "outputs": [
    {
     "name": "stdout",
     "output_type": "stream",
     "text": [
      "Train on 80000 samples, validate on 20000 samples\n",
      "Epoch 1/50\n",
      "80000/80000 [==============================] - 333s 4ms/step - loss: 0.7914 - val_loss: 0.8922\n",
      "Epoch 2/50\n",
      "80000/80000 [==============================] - 325s 4ms/step - loss: 0.5733 - val_loss: 0.7586\n",
      "Epoch 3/50\n",
      "80000/80000 [==============================] - 330s 4ms/step - loss: 0.4917 - val_loss: 0.6644\n",
      "Epoch 4/50\n",
      "80000/80000 [==============================] - 332s 4ms/step - loss: 0.4410 - val_loss: 0.6152\n",
      "Epoch 5/50\n",
      "80000/80000 [==============================] - 340s 4ms/step - loss: 0.4057 - val_loss: 0.5762\n",
      "Epoch 6/50\n",
      "80000/80000 [==============================] - 339s 4ms/step - loss: 0.3804 - val_loss: 0.5518\n",
      "Epoch 7/50\n",
      "80000/80000 [==============================] - 337s 4ms/step - loss: 0.3619 - val_loss: 0.5316\n",
      "Epoch 8/50\n",
      "80000/80000 [==============================] - 335s 4ms/step - loss: 0.3466 - val_loss: 0.5179\n",
      "Epoch 9/50\n",
      "80000/80000 [==============================] - 335s 4ms/step - loss: 0.3339 - val_loss: 0.5019\n",
      "Epoch 10/50\n",
      "80000/80000 [==============================] - 337s 4ms/step - loss: 0.3232 - val_loss: 0.4950\n",
      "Epoch 11/50\n",
      "80000/80000 [==============================] - 336s 4ms/step - loss: 0.3138 - val_loss: 0.4842\n",
      "Epoch 12/50\n",
      "80000/80000 [==============================] - 336s 4ms/step - loss: 0.3062 - val_loss: 0.4786\n",
      "Epoch 13/50\n",
      "80000/80000 [==============================] - 338s 4ms/step - loss: 0.2984 - val_loss: 0.4706\n",
      "Epoch 14/50\n",
      "80000/80000 [==============================] - 336s 4ms/step - loss: 0.2926 - val_loss: 0.4646\n",
      "Epoch 15/50\n",
      "80000/80000 [==============================] - 339s 4ms/step - loss: 0.2874 - val_loss: 0.4610\n",
      "Epoch 16/50\n",
      "80000/80000 [==============================] - 337s 4ms/step - loss: 0.2819 - val_loss: 0.4600\n",
      "Epoch 17/50\n",
      "80000/80000 [==============================] - 339s 4ms/step - loss: 0.2765 - val_loss: 0.4524\n",
      "Epoch 18/50\n",
      "80000/80000 [==============================] - 340s 4ms/step - loss: 0.2728 - val_loss: 0.4487\n",
      "Epoch 19/50\n",
      "80000/80000 [==============================] - 335s 4ms/step - loss: 0.2684 - val_loss: 0.4457\n",
      "Epoch 20/50\n",
      "80000/80000 [==============================] - 338s 4ms/step - loss: 0.2644 - val_loss: 0.4482\n",
      "Epoch 21/50\n",
      "80000/80000 [==============================] - 335s 4ms/step - loss: 0.2608 - val_loss: 0.4404\n",
      "Epoch 22/50\n",
      "80000/80000 [==============================] - 336s 4ms/step - loss: 0.2576 - val_loss: 0.4378\n",
      "Epoch 23/50\n",
      "80000/80000 [==============================] - 334s 4ms/step - loss: 0.2549 - val_loss: 0.4349\n",
      "Epoch 24/50\n",
      "80000/80000 [==============================] - 334s 4ms/step - loss: 0.2516 - val_loss: 0.4333\n",
      "Epoch 25/50\n",
      "80000/80000 [==============================] - 336s 4ms/step - loss: 0.2510 - val_loss: 0.4317\n",
      "Epoch 26/50\n",
      "80000/80000 [==============================] - 333s 4ms/step - loss: 0.2474 - val_loss: 0.4291\n",
      "Epoch 27/50\n",
      "80000/80000 [==============================] - 331s 4ms/step - loss: 0.2444 - val_loss: 0.4292\n",
      "Epoch 28/50\n",
      "80000/80000 [==============================] - 333s 4ms/step - loss: 0.2420 - val_loss: 0.4263\n",
      "Epoch 29/50\n",
      "80000/80000 [==============================] - 332s 4ms/step - loss: 0.2397 - val_loss: 0.4274\n",
      "Epoch 30/50\n",
      "80000/80000 [==============================] - 335s 4ms/step - loss: 0.2371 - val_loss: 0.4237\n",
      "Epoch 31/50\n",
      "80000/80000 [==============================] - 332s 4ms/step - loss: 0.2352 - val_loss: 0.4223\n",
      "Epoch 32/50\n",
      "80000/80000 [==============================] - 336s 4ms/step - loss: 0.2335 - val_loss: 0.4287\n",
      "Epoch 33/50\n",
      "80000/80000 [==============================] - 335s 4ms/step - loss: 0.2316 - val_loss: 0.4228\n",
      "Epoch 34/50\n",
      "80000/80000 [==============================] - 336s 4ms/step - loss: 0.2298 - val_loss: 0.4188\n",
      "Epoch 35/50\n",
      "80000/80000 [==============================] - 326s 4ms/step - loss: 0.2278 - val_loss: 0.4217\n",
      "Epoch 36/50\n",
      "80000/80000 [==============================] - 310s 4ms/step - loss: 0.2258 - val_loss: 0.4184\n",
      "Epoch 37/50\n",
      "80000/80000 [==============================] - 311s 4ms/step - loss: 0.2257 - val_loss: 0.4186\n",
      "Epoch 38/50\n",
      "80000/80000 [==============================] - 307s 4ms/step - loss: 0.2237 - val_loss: 0.4184\n",
      "Epoch 39/50\n",
      "80000/80000 [==============================] - 312s 4ms/step - loss: 0.2225 - val_loss: 0.4177\n",
      "Epoch 40/50\n",
      "80000/80000 [==============================] - 312s 4ms/step - loss: 0.2208 - val_loss: 0.4158\n",
      "Epoch 41/50\n",
      "80000/80000 [==============================] - 306s 4ms/step - loss: 0.2196 - val_loss: 0.4170\n",
      "Epoch 42/50\n",
      "80000/80000 [==============================] - 302s 4ms/step - loss: 0.2183 - val_loss: 0.4179\n",
      "Epoch 43/50\n",
      "80000/80000 [==============================] - 304s 4ms/step - loss: 0.2385 - val_loss: 0.4311\n",
      "Epoch 44/50\n",
      "80000/80000 [==============================] - 314s 4ms/step - loss: 0.2222 - val_loss: 0.4165\n",
      "Epoch 45/50\n",
      "80000/80000 [==============================] - 315s 4ms/step - loss: 0.2256 - val_loss: 0.4267\n",
      "Epoch 46/50\n",
      "80000/80000 [==============================] - 312s 4ms/step - loss: 0.2171 - val_loss: 0.4155\n",
      "Epoch 47/50\n",
      "80000/80000 [==============================] - 308s 4ms/step - loss: 0.2151 - val_loss: 0.4140\n",
      "Epoch 48/50\n",
      "80000/80000 [==============================] - 310s 4ms/step - loss: 0.2139 - val_loss: 0.4144\n",
      "Epoch 49/50\n",
      "80000/80000 [==============================] - 304s 4ms/step - loss: 0.2126 - val_loss: 0.4130\n",
      "Epoch 50/50\n",
      "80000/80000 [==============================] - 315s 4ms/step - loss: 0.2104 - val_loss: 0.4142\n"
     ]
    },
    {
     "data": {
      "text/plain": [
       "<keras.callbacks.History at 0x7f8b888817b8>"
      ]
     },
     "execution_count": 42,
     "metadata": {
      "tags": []
     },
     "output_type": "execute_result"
    }
   ],
   "source": [
    "model.compile(optimizer='rmsprop', loss='categorical_crossentropy')\n",
    "\n",
    "model.fit([encoder_input_data, decoder_input_data],  # training data\n",
    "          decoder_target_data,                       # labels (left shift of the target sequences)\n",
    "          batch_size=64, epochs=50, validation_split=0.2)\n",
    "\n",
    "#model.save('/content/drive/My Drive/seq2seq1.h5')"
   ]
  },
  {
   "cell_type": "markdown",
   "metadata": {
    "colab_type": "text",
    "id": "YpVD5ucuuJde"
   },
   "source": [
    "## 4. Make predictions\n",
    "\n",
    "\n",
    "### 4.1. Translate English to XXX\n",
    "\n",
    "1. Encoder read a sentence (source language) and output its final states, $h_t$ and $c_t$.\n",
    "2. Take the [star] sign \"\\t\" and the final state $h_t$ and $c_t$ as input and run the decoder.\n",
    "3. Get the new states and predicted probability distribution.\n",
    "4. sample a char from the predicted probability distribution\n",
    "5. take the sampled char and the new states as input and repeat the process (stop if reach the [stop] sign \"\\n\")."
   ]
  },
  {
   "cell_type": "code",
   "execution_count": 0,
   "metadata": {
    "colab": {},
    "colab_type": "code",
    "id": "66jDXr-o_1eH"
   },
   "outputs": [],
   "source": [
    "model.load_weights('/content/drive/My Drive/seq2seq1.h5')"
   ]
  },
  {
   "cell_type": "code",
   "execution_count": 0,
   "metadata": {
    "colab": {},
    "colab_type": "code",
    "id": "bB3peFMWuJdi"
   },
   "outputs": [],
   "source": [
    "# Reverse-lookup token index to decode sequences back to something readable.\n",
    "reverse_input_char_index = dict((i, char) for char, i in input_token_index.items())\n",
    "reverse_target_char_index = dict((i, char) for char, i in target_token_index.items())"
   ]
  },
  {
   "cell_type": "code",
   "execution_count": 0,
   "metadata": {
    "colab": {},
    "colab_type": "code",
    "id": "hQrmMoIIuJds"
   },
   "outputs": [],
   "source": [
    "def decode_sequence(input_seq):\n",
    "    states_value = encoder_model.predict(input_seq)\n",
    "\n",
    "    target_seq = numpy.zeros((1, 1, num_decoder_tokens))\n",
    "    target_seq[0, 0, target_token_index['\\t']] = 1.\n",
    "\n",
    "    stop_condition = False\n",
    "    decoded_sentence = ''\n",
    "    while not stop_condition:\n",
    "        output_tokens, h, c = decoder_model.predict([target_seq] + states_value)\n",
    "\n",
    "        # this line of code is greedy selection\n",
    "        # try to use multinomial sampling instead (with temperature)\n",
    "        sampled_token_index = numpy.argmax(output_tokens[0, -1, :])\n",
    "        \n",
    "        sampled_char = reverse_target_char_index[sampled_token_index]\n",
    "        decoded_sentence += sampled_char\n",
    "\n",
    "        if (sampled_char == '\\n' or\n",
    "           len(decoded_sentence) > max_decoder_seq_length):\n",
    "            stop_condition = True\n",
    "\n",
    "        target_seq = numpy.zeros((1, 1, num_decoder_tokens))\n",
    "        target_seq[0, 0, sampled_token_index] = 1.\n",
    "\n",
    "        states_value = [h, c]\n",
    "\n",
    "    return decoded_sentence\n"
   ]
  },
  {
   "cell_type": "code",
   "execution_count": 22,
   "metadata": {
    "colab": {
     "base_uri": "https://localhost:8080/",
     "height": 1000
    },
    "colab_type": "code",
    "id": "M-ruD7P-uJdw",
    "outputId": "e7d9deda-10db-4c63-dd89-355a2e3ec11e"
   },
   "outputs": [
    {
     "name": "stdout",
     "output_type": "stream",
     "text": [
      "-\n",
      "English:        is he right\n",
      "Spanish (true):  esta el bien\n",
      "Spanish (pred):  esta rico\n",
      "-\n",
      "English:        is he right\n",
      "Spanish (true):  se encuentra bien\n",
      "Spanish (pred):  esta rico\n",
      "-\n",
      "English:        is he right\n",
      "Spanish (true):  ha acertado\n",
      "Spanish (pred):  esta rico\n",
      "-\n",
      "English:        is he right\n",
      "Spanish (true):  esta en lo cierto\n",
      "Spanish (pred):  esta rico\n",
      "-\n",
      "English:        is he right\n",
      "Spanish (true):  es lo que el dice\n",
      "Spanish (pred):  esta rico\n",
      "-\n",
      "English:        is it clean\n",
      "Spanish (true):  esta limpio\n",
      "Spanish (pred):  esta limpio\n",
      "-\n",
      "English:        is it clean\n",
      "Spanish (true):  esta limpia\n",
      "Spanish (pred):  esta limpio\n",
      "-\n",
      "English:        is it there\n",
      "Spanish (true):  esta ahi\n",
      "Spanish (pred):  esta ahi\n",
      "-\n",
      "English:        is it to go\n",
      "Spanish (true):  para llevar\n",
      "Spanish (pred):  es importante\n",
      "-\n",
      "English:        is it windy\n",
      "Spanish (true):  esta ventoso\n",
      "Spanish (pred):  esta bien\n",
      "-\n",
      "English:        is it yours\n",
      "Spanish (true):  es suyo\n",
      "Spanish (pred):  es suyo\n",
      "-\n",
      "English:        is it yours\n",
      "Spanish (true):  es vuestro\n",
      "Spanish (pred):  es suyo\n",
      "-\n",
      "English:        is she nice\n",
      "Spanish (true):  ella es simpatica\n",
      "Spanish (pred):  esta bien\n",
      "-\n",
      "English:        is that tom\n",
      "Spanish (true):  es ese tom\n",
      "Spanish (pred):  es eso tom\n",
      "-\n",
      "English:        is that all\n",
      "Spanish (true):  es todo\n",
      "Spanish (pred):  es eso todo\n",
      "-\n",
      "English:        is that new\n",
      "Spanish (true):  es eso nuevo\n",
      "Spanish (pred):  es eso nuevo\n",
      "-\n",
      "English:        is that you\n",
      "Spanish (true):  eres tu\n",
      "Spanish (pred):  es eso\n",
      "-\n",
      "English:        is that you\n",
      "Spanish (true):  es usted\n",
      "Spanish (pred):  es eso\n",
      "-\n",
      "English:        is this new\n",
      "Spanish (true):  esto es nuevo\n",
      "Spanish (pred):  esto es nuevo\n",
      "-\n",
      "English:        it cant be\n",
      "Spanish (true):  no puede ser\n",
      "Spanish (pred):  no puede ser\n"
     ]
    }
   ],
   "source": [
    "for seq_index in range(2100, 2120):\n",
    "    # Take one sequence (part of the training set)\n",
    "    # for trying out decoding.\n",
    "    input_seq = encoder_input_data[seq_index: seq_index + 1]\n",
    "    decoded_sentence = decode_sequence(input_seq)\n",
    "    print('-')\n",
    "    print('English:       ', input_texts[seq_index])\n",
    "    print('Spanish (true): ', target_texts[seq_index][1:-1])\n",
    "    print('Spanish (pred): ', decoded_sentence[0:-1])\n"
   ]
  },
  {
   "cell_type": "markdown",
   "metadata": {
    "colab_type": "text",
    "id": "efkSpmEpuJd8"
   },
   "source": [
    "### 4.2. Translate an English sentence to the target language\n",
    "\n",
    "1. Tokenization\n",
    "2. One-hot encode\n",
    "3. Translate"
   ]
  },
  {
   "cell_type": "code",
   "execution_count": 23,
   "metadata": {
    "colab": {
     "base_uri": "https://localhost:8080/",
     "height": 68
    },
    "colab_type": "code",
    "id": "BCUt5I9zuJeD",
    "outputId": "7eecc6f8-e018-4a1a-dab4-4f166a13b015"
   },
   "outputs": [
    {
     "name": "stdout",
     "output_type": "stream",
     "text": [
      "source sentence is: why is that\n",
      "translated sentence is: por que es eso\n",
      "\n"
     ]
    }
   ],
   "source": [
    "input_sentence = 'why is that'\n",
    "\n",
    "input_sequence1=[]\n",
    "tokenizer = Tokenizer(char_level=True, filters='')\n",
    "tokenizer.fit_on_texts(input_texts)\n",
    "seqs1 = tokenizer.texts_to_sequences(input_sentence)\n",
    "for sublist in seqs1:\n",
    "    for item in sublist:\n",
    "        input_sequence1.append(item)\n",
    "input_sequence = pad_sequences([input_sequence1], maxlen=max_encoder_seq_length, padding='post')\n",
    "\n",
    "input_x = onehot_encode(input_sequence, max_encoder_seq_length, num_encoder_tokens)\n",
    "#<do one-hot encode...>\n",
    "\n",
    "translated_sentence = decode_sequence(input_x)\n",
    "\n",
    "print('source sentence is: ' + input_sentence)\n",
    "print('translated sentence is: ' + translated_sentence)"
   ]
  },
  {
   "cell_type": "markdown",
   "metadata": {
    "colab_type": "text",
    "id": "YTCslZXDuJeG"
   },
   "source": [
    "## 5. Evaluate the translation using BLEU score\n",
    "\n",
    "Reference: \n",
    "- https://machinelearningmastery.com/calculate-bleu-score-for-text-python/\n",
    "- https://en.wikipedia.org/wiki/BLEU\n",
    "\n",
    "\n",
    "**Hint:** \n",
    "\n",
    "- Randomly partition the dataset to training, validation, and test. \n",
    "\n",
    "- Evaluate the BLEU score using the test set. Report the average.\n",
    "\n",
    "- A reasonable BLEU score should be 0.1 ~ 0.3."
   ]
  },
  {
   "cell_type": "code",
   "execution_count": 0,
   "metadata": {
    "colab": {},
    "colab_type": "code",
    "id": "j6OQw1a_uJeH"
   },
   "outputs": [],
   "source": [
    "import pandas as pd\n",
    "df=pd.DataFrame(clean_pairs, columns=['English','Spanish','0'])\n",
    "del df['0']"
   ]
  },
  {
   "cell_type": "code",
   "execution_count": 18,
   "metadata": {
    "colab": {
     "base_uri": "https://localhost:8080/",
     "height": 204
    },
    "colab_type": "code",
    "id": "n1g43vv-C7C-",
    "outputId": "a1c6acd9-c6f5-42fe-ca72-8b214bed9134"
   },
   "outputs": [
    {
     "data": {
      "text/html": [
       "<div>\n",
       "<style scoped>\n",
       "    .dataframe tbody tr th:only-of-type {\n",
       "        vertical-align: middle;\n",
       "    }\n",
       "\n",
       "    .dataframe tbody tr th {\n",
       "        vertical-align: top;\n",
       "    }\n",
       "\n",
       "    .dataframe thead th {\n",
       "        text-align: right;\n",
       "    }\n",
       "</style>\n",
       "<table border=\"1\" class=\"dataframe\">\n",
       "  <thead>\n",
       "    <tr style=\"text-align: right;\">\n",
       "      <th></th>\n",
       "      <th>English</th>\n",
       "      <th>Spanish</th>\n",
       "    </tr>\n",
       "  </thead>\n",
       "  <tbody>\n",
       "    <tr>\n",
       "      <th>0</th>\n",
       "      <td>go</td>\n",
       "      <td>ve</td>\n",
       "    </tr>\n",
       "    <tr>\n",
       "      <th>1</th>\n",
       "      <td>go</td>\n",
       "      <td>vete</td>\n",
       "    </tr>\n",
       "    <tr>\n",
       "      <th>2</th>\n",
       "      <td>go</td>\n",
       "      <td>vaya</td>\n",
       "    </tr>\n",
       "    <tr>\n",
       "      <th>3</th>\n",
       "      <td>go</td>\n",
       "      <td>vayase</td>\n",
       "    </tr>\n",
       "    <tr>\n",
       "      <th>4</th>\n",
       "      <td>hi</td>\n",
       "      <td>hola</td>\n",
       "    </tr>\n",
       "  </tbody>\n",
       "</table>\n",
       "</div>"
      ],
      "text/plain": [
       "  English Spanish\n",
       "0      go      ve\n",
       "1      go    vete\n",
       "2      go    vaya\n",
       "3      go  vayase\n",
       "4      hi    hola"
      ]
     },
     "execution_count": 18,
     "metadata": {
      "tags": []
     },
     "output_type": "execute_result"
    }
   ],
   "source": [
    "df.head()"
   ]
  },
  {
   "cell_type": "code",
   "execution_count": 0,
   "metadata": {
    "colab": {},
    "colab_type": "code",
    "id": "YUT-KWOHDvhh"
   },
   "outputs": [],
   "source": [
    "from sklearn.model_selection import train_test_split\n",
    "x_train, x_test, y_train, y_test = train_test_split(df.English, df.Spanish, test_size=0.2, random_state=1)\n",
    "\n",
    "x_train, x_val, y_train, y_val = train_test_split(x_train, y_train, test_size=0.1, random_state=1)"
   ]
  },
  {
   "cell_type": "code",
   "execution_count": 20,
   "metadata": {
    "colab": {
     "base_uri": "https://localhost:8080/",
     "height": 119
    },
    "colab_type": "code",
    "id": "V8nqM9G92t_Q",
    "outputId": "ef859151-3fdf-431a-871e-6afedb5597f4"
   },
   "outputs": [
    {
     "name": "stdout",
     "output_type": "stream",
     "text": [
      "(72000,)\n",
      "(8000,)\n",
      "(20000,)\n",
      "(72000,)\n",
      "(8000,)\n",
      "(20000,)\n"
     ]
    }
   ],
   "source": [
    "print(x_train.shape)\n",
    "print(x_val.shape)\n",
    "print(x_test.shape)\n",
    "print(y_train.shape)\n",
    "print(y_val.shape)\n",
    "print(y_test.shape)"
   ]
  },
  {
   "cell_type": "code",
   "execution_count": 0,
   "metadata": {
    "colab": {},
    "colab_type": "code",
    "id": "Jy8AM8s1_-Aq"
   },
   "outputs": [],
   "source": [
    "y_train = ['\\t' + text + '\\n' for text in y_train]\n",
    "y_val = ['\\t' + text + '\\n' for text in y_val]\n",
    "y_test = ['\\t' + text + '\\n' for text in y_test]"
   ]
  },
  {
   "cell_type": "code",
   "execution_count": 0,
   "metadata": {
    "colab": {},
    "colab_type": "code",
    "id": "X766UVV9MKtX"
   },
   "outputs": [],
   "source": [
    "def seq_onehoc(data,input,maxlen,num):\n",
    "  tokenizer = Tokenizer(char_level=True, filters='')\n",
    "  tokenizer.fit_on_texts(input)\n",
    "  seqs=tokenizer.texts_to_sequences(data)\n",
    "  input_sequence=pad_sequences(seqs, maxlen=maxlen, padding='post')\n",
    "  input_x = onehot_encode(sequences=input_sequence, max_len=maxlen, vocab_size=num)\n",
    "  return input_x, input_sequence"
   ]
  },
  {
   "cell_type": "code",
   "execution_count": 0,
   "metadata": {
    "colab": {},
    "colab_type": "code",
    "id": "R9JUmsHqUNwX"
   },
   "outputs": [],
   "source": [
    "input_x_train=seq_onehoc(data=x_train,input=input_texts,maxlen=max_encoder_seq_length,num=num_encoder_tokens)[0]\n",
    "input_x_val=seq_onehoc(data=x_val,input=input_texts,maxlen=max_encoder_seq_length,num=num_encoder_tokens)[0]\n",
    "input_x_test=seq_onehoc(data=x_test,input=input_texts,maxlen=max_encoder_seq_length,num=num_encoder_tokens)[0]\n",
    "input_y_train=seq_onehoc(data=y_train,input=target_texts, maxlen=max_decoder_seq_length,num=num_decoder_tokens)[0]\n",
    "input_y_val=seq_onehoc(data=y_val,input=target_texts,maxlen=max_decoder_seq_length,num=num_decoder_tokens)[0]\n",
    "input_y_test=seq_onehoc(data=y_test,input=target_texts,maxlen=max_decoder_seq_length,num=num_decoder_tokens)[0]"
   ]
  },
  {
   "cell_type": "code",
   "execution_count": 0,
   "metadata": {
    "colab": {},
    "colab_type": "code",
    "id": "piq9Pal3EgM4"
   },
   "outputs": [],
   "source": [
    "a=seq_onehoc(data=y_train,input=target_texts, maxlen=max_decoder_seq_length,num=num_decoder_tokens)[1]\n",
    "decoder_target_seq = numpy.zeros(a.shape)\n",
    "decoder_target_seq[:, 0:-1] = a[:, 1:]\n",
    "decoder_target_data = onehot_encode(decoder_target_seq, \n",
    "                                    max_decoder_seq_length, \n",
    "                                    num_decoder_tokens)"
   ]
  },
  {
   "cell_type": "code",
   "execution_count": 0,
   "metadata": {
    "colab": {},
    "colab_type": "code",
    "id": "M-5utcMMF_uc"
   },
   "outputs": [],
   "source": [
    "b=seq_onehoc(data=y_val,input=target_texts,maxlen=max_decoder_seq_length,num=num_decoder_tokens)[1]\n",
    "decoder_target_seq1 = numpy.zeros(b.shape)\n",
    "decoder_target_seq1[:, 0:-1] = b[:, 1:]\n",
    "decoder_target_data1 = onehot_encode(decoder_target_seq1, \n",
    "                                    max_decoder_seq_length, \n",
    "                                    num_decoder_tokens)"
   ]
  },
  {
   "cell_type": "code",
   "execution_count": 0,
   "metadata": {
    "colab": {},
    "colab_type": "code",
    "id": "P1OtEG27ndsU"
   },
   "outputs": [],
   "source": [
    "latent_dim = 256\n",
    "\n",
    "# inputs of the encoder network\n",
    "encoder_inputs = Input(shape=(None, num_encoder_tokens), \n",
    "                       name='encoder_inputs')\n",
    "\n",
    "# set the LSTM layer\n",
    "encoder_bilstm = Bidirectional(LSTM(latent_dim, return_state=True, \n",
    "                    dropout=0.5, name='encoder_lstm'))\n",
    "_, forward_h, forward_c, backward_h, backward_c = encoder_bilstm(encoder_inputs)\n",
    "\n",
    "state_h = Concatenate()([forward_h, backward_h])\n",
    "state_c = Concatenate()([forward_c, backward_c])\n",
    "# build the encoder network model\n",
    "encoder_model = Model(inputs=encoder_inputs, \n",
    "                      outputs=[state_h, state_c],\n",
    "                      name='encoder')"
   ]
  },
  {
   "cell_type": "code",
   "execution_count": 0,
   "metadata": {
    "colab": {},
    "colab_type": "code",
    "id": "YorNfETznkkc"
   },
   "outputs": [],
   "source": [
    "# inputs of the decoder network\n",
    "decoder_input_h = Input(shape=(2*latent_dim,), name='decoder_input_h')\n",
    "decoder_input_c = Input(shape=(2*latent_dim,), name='decoder_input_c')\n",
    "decoder_input_x = Input(shape=(None, num_decoder_tokens), name='decoder_input_x')\n",
    "\n",
    "# set the LSTM layer\n",
    "decoder_lstm = LSTM(latent_dim*2, return_sequences=True, \n",
    "                    return_state=True, dropout=0.5, name='decoder_lstm')\n",
    "decoder_lstm_outputs, state_h_, state_c_ = decoder_lstm(decoder_input_x, \n",
    "                                                      initial_state=[decoder_input_h, decoder_input_c])\n",
    "\n",
    "# state_h = Concatenate()([forward_h, backward_h])\n",
    "# state_c = Concatenate()([forward_c, backward_c])\n",
    "# set the dense layer\n",
    "decoder_dense = Dense(num_decoder_tokens, activation='softmax', name='decoder_dense')\n",
    "decoder_outputs = decoder_dense(decoder_lstm_outputs)\n",
    "\n",
    "# build the decoder network model\n",
    "decoder_model = Model(inputs=[decoder_input_x, decoder_input_h, decoder_input_c],\n",
    "                      outputs=[decoder_outputs, state_h_, state_c_],\n",
    "                      name='decoder')"
   ]
  },
  {
   "cell_type": "code",
   "execution_count": 0,
   "metadata": {
    "colab": {},
    "colab_type": "code",
    "id": "tJiWo-DsgxTa"
   },
   "outputs": [],
   "source": [
    "# input layers\n",
    "encoder_input_x = Input(shape=(None, num_encoder_tokens), name='encoder_input_x')\n",
    "decoder_input_x = Input(shape=(None, num_decoder_tokens), name='decoder_input_x')\n",
    "\n",
    "# connect encoder to decoder\n",
    "encoder_final_states = encoder_model([encoder_input_x])\n",
    "decoder_lstm_output, _, _ = decoder_lstm(decoder_input_x, initial_state=encoder_final_states)\n",
    "decoder_pred = decoder_dense(decoder_lstm_output)\n",
    "\n",
    "model = Model(inputs=[encoder_input_x, decoder_input_x], \n",
    "              outputs=decoder_pred, \n",
    "              name='model_training')"
   ]
  },
  {
   "cell_type": "code",
   "execution_count": 32,
   "metadata": {
    "colab": {
     "base_uri": "https://localhost:8080/",
     "height": 1000
    },
    "colab_type": "code",
    "id": "ci9TCXndVCap",
    "outputId": "aa7630ed-12dd-4fba-da02-8ea677b65b8c"
   },
   "outputs": [
    {
     "name": "stdout",
     "output_type": "stream",
     "text": [
      "Train on 72000 samples, validate on 8000 samples\n",
      "Epoch 1/50\n",
      "72000/72000 [==============================] - 501s 7ms/step - loss: 0.6405 - val_loss: 0.5183\n",
      "Epoch 2/50\n",
      "72000/72000 [==============================] - 496s 7ms/step - loss: 0.5296 - val_loss: 0.4360\n",
      "Epoch 3/50\n",
      "72000/72000 [==============================] - 496s 7ms/step - loss: 0.4714 - val_loss: 0.3962\n",
      "Epoch 4/50\n",
      "72000/72000 [==============================] - 494s 7ms/step - loss: 0.4357 - val_loss: 0.3706\n",
      "Epoch 5/50\n",
      "72000/72000 [==============================] - 495s 7ms/step - loss: 0.4106 - val_loss: 0.3494\n",
      "Epoch 6/50\n",
      "72000/72000 [==============================] - 495s 7ms/step - loss: 0.3922 - val_loss: 0.3365\n",
      "Epoch 7/50\n",
      "72000/72000 [==============================] - 493s 7ms/step - loss: 0.3773 - val_loss: 0.3241\n",
      "Epoch 8/50\n",
      "72000/72000 [==============================] - 493s 7ms/step - loss: 0.3654 - val_loss: 0.3157\n",
      "Epoch 9/50\n",
      "72000/72000 [==============================] - 493s 7ms/step - loss: 0.3552 - val_loss: 0.3073\n",
      "Epoch 10/50\n",
      "72000/72000 [==============================] - 493s 7ms/step - loss: 0.3462 - val_loss: 0.3024\n",
      "Epoch 11/50\n",
      "72000/72000 [==============================] - 493s 7ms/step - loss: 0.3388 - val_loss: 0.2947\n",
      "Epoch 12/50\n",
      "72000/72000 [==============================] - 492s 7ms/step - loss: 0.3314 - val_loss: 0.2902\n",
      "Epoch 13/50\n",
      "72000/72000 [==============================] - 494s 7ms/step - loss: 0.3255 - val_loss: 0.2858\n",
      "Epoch 14/50\n",
      "72000/72000 [==============================] - 493s 7ms/step - loss: 0.3218 - val_loss: 0.2822\n",
      "Epoch 15/50\n",
      "72000/72000 [==============================] - 492s 7ms/step - loss: 0.3155 - val_loss: 0.2783\n",
      "Epoch 16/50\n",
      "72000/72000 [==============================] - 492s 7ms/step - loss: 0.3111 - val_loss: 0.2755\n",
      "Epoch 17/50\n",
      "72000/72000 [==============================] - 493s 7ms/step - loss: 0.3062 - val_loss: 0.2744\n",
      "Epoch 18/50\n",
      "72000/72000 [==============================] - 492s 7ms/step - loss: 0.3027 - val_loss: 0.2703\n",
      "Epoch 19/50\n",
      "72000/72000 [==============================] - 492s 7ms/step - loss: 0.2990 - val_loss: 0.2669\n",
      "Epoch 20/50\n",
      "72000/72000 [==============================] - 493s 7ms/step - loss: 0.2956 - val_loss: 0.2648\n",
      "Epoch 21/50\n",
      "72000/72000 [==============================] - 492s 7ms/step - loss: 0.2924 - val_loss: 0.2624\n",
      "Epoch 22/50\n",
      "72000/72000 [==============================] - 494s 7ms/step - loss: 0.2889 - val_loss: 0.2610\n",
      "Epoch 23/50\n",
      "72000/72000 [==============================] - 494s 7ms/step - loss: 0.2861 - val_loss: 0.2588\n",
      "Epoch 24/50\n",
      "72000/72000 [==============================] - 493s 7ms/step - loss: 0.2837 - val_loss: 0.2571\n",
      "Epoch 25/50\n",
      "72000/72000 [==============================] - 491s 7ms/step - loss: 0.2841 - val_loss: 0.2558\n",
      "Epoch 26/50\n",
      "72000/72000 [==============================] - 493s 7ms/step - loss: 0.2793 - val_loss: 0.2536\n",
      "Epoch 27/50\n",
      "72000/72000 [==============================] - 493s 7ms/step - loss: 0.2765 - val_loss: 0.2527\n",
      "Epoch 28/50\n",
      "72000/72000 [==============================] - 494s 7ms/step - loss: 0.2749 - val_loss: 0.2509\n",
      "Epoch 29/50\n",
      "72000/72000 [==============================] - 493s 7ms/step - loss: 0.2771 - val_loss: 0.2504\n",
      "Epoch 30/50\n",
      "72000/72000 [==============================] - 492s 7ms/step - loss: 0.2708 - val_loss: 0.2490\n",
      "Epoch 31/50\n",
      "72000/72000 [==============================] - 493s 7ms/step - loss: 0.2683 - val_loss: 0.2476\n",
      "Epoch 32/50\n",
      "72000/72000 [==============================] - 493s 7ms/step - loss: 0.2669 - val_loss: 0.2461\n",
      "Epoch 33/50\n",
      "72000/72000 [==============================] - 492s 7ms/step - loss: 0.2659 - val_loss: 0.2464\n",
      "Epoch 34/50\n",
      "72000/72000 [==============================] - 492s 7ms/step - loss: 0.2640 - val_loss: 0.2447\n",
      "Epoch 35/50\n",
      "72000/72000 [==============================] - 493s 7ms/step - loss: 0.2611 - val_loss: 0.2437\n",
      "Epoch 36/50\n",
      "72000/72000 [==============================] - 493s 7ms/step - loss: 0.2594 - val_loss: 0.2450\n",
      "Epoch 37/50\n",
      "72000/72000 [==============================] - 494s 7ms/step - loss: 0.2584 - val_loss: 0.2426\n",
      "Epoch 38/50\n",
      "72000/72000 [==============================] - 493s 7ms/step - loss: 0.2635 - val_loss: 0.2603\n",
      "Epoch 39/50\n",
      "72000/72000 [==============================] - 494s 7ms/step - loss: 0.2569 - val_loss: 0.2420\n",
      "Epoch 40/50\n",
      "72000/72000 [==============================] - 495s 7ms/step - loss: 0.2549 - val_loss: 0.2400\n",
      "Epoch 41/50\n",
      "72000/72000 [==============================] - 493s 7ms/step - loss: 0.2535 - val_loss: 0.2390\n",
      "Epoch 42/50\n",
      "72000/72000 [==============================] - 493s 7ms/step - loss: 0.2520 - val_loss: 0.2381\n",
      "Epoch 43/50\n",
      "72000/72000 [==============================] - 492s 7ms/step - loss: 0.2500 - val_loss: 0.2376\n",
      "Epoch 44/50\n",
      "72000/72000 [==============================] - 493s 7ms/step - loss: 0.2487 - val_loss: 0.2383\n",
      "Epoch 45/50\n",
      "72000/72000 [==============================] - 493s 7ms/step - loss: 0.2478 - val_loss: 0.2387\n",
      "Epoch 46/50\n",
      "72000/72000 [==============================] - 494s 7ms/step - loss: 0.2472 - val_loss: 0.2358\n",
      "Epoch 47/50\n",
      "72000/72000 [==============================] - 494s 7ms/step - loss: 0.2456 - val_loss: 0.2371\n",
      "Epoch 48/50\n",
      "72000/72000 [==============================] - 494s 7ms/step - loss: 0.2436 - val_loss: 0.2349\n",
      "Epoch 49/50\n",
      "72000/72000 [==============================] - 496s 7ms/step - loss: 0.3040 - val_loss: 0.4624\n",
      "Epoch 50/50\n",
      "72000/72000 [==============================] - 494s 7ms/step - loss: 0.2912 - val_loss: 0.2355\n"
     ]
    },
    {
     "data": {
      "text/plain": [
       "<keras.callbacks.History at 0x7f640e6f9ba8>"
      ]
     },
     "execution_count": 32,
     "metadata": {
      "tags": []
     },
     "output_type": "execute_result"
    }
   ],
   "source": [
    "model.compile(optimizer='rmsprop', loss='categorical_crossentropy')\n",
    "model.fit([input_x_train, input_y_train], decoder_target_data, epochs=50, validation_data=([input_x_val, input_y_val], decoder_target_data1))\n",
    "#model.save('/content/drive/My Drive/seq2seq2.h5')"
   ]
  },
  {
   "cell_type": "code",
   "execution_count": 0,
   "metadata": {
    "colab": {},
    "colab_type": "code",
    "id": "NomXl-QgEZ1y"
   },
   "outputs": [],
   "source": [
    "x_test_predict=[]\n",
    "for i in range(20000):\n",
    "  x_test_predict.append(decode_sequence(input_x_test[i:i+1])[0:-1])"
   ]
  },
  {
   "cell_type": "code",
   "execution_count": 37,
   "metadata": {
    "colab": {
     "base_uri": "https://localhost:8080/",
     "height": 102
    },
    "colab_type": "code",
    "id": "Y8tK-QTcT0pd",
    "outputId": "a3816ab7-57ff-438e-8ad8-3e34ad94effc"
   },
   "outputs": [
    {
     "data": {
      "text/plain": [
       "['tom no trabaja trabajo',\n",
       " 'necesitamos un diccionario es un extrano',\n",
       " 'no he hacho nada',\n",
       " 'su hermano mayor le perdio la mesa',\n",
       " 'quien sabe nada de un problema sentido']"
      ]
     },
     "execution_count": 37,
     "metadata": {
      "tags": []
     },
     "output_type": "execute_result"
    }
   ],
   "source": [
    "x_test_predict[:5]"
   ]
  },
  {
   "cell_type": "code",
   "execution_count": 0,
   "metadata": {
    "colab": {},
    "colab_type": "code",
    "id": "sLlzVyuxoWyR"
   },
   "outputs": [],
   "source": [
    "df_test=pd.DataFrame(x_test)"
   ]
  },
  {
   "cell_type": "code",
   "execution_count": 0,
   "metadata": {
    "colab": {},
    "colab_type": "code",
    "id": "zu1g4v42a-TG"
   },
   "outputs": [],
   "source": [
    "df_test['predict_Spanish']=x_test_predict\n",
    "df_test['Spanish']=y_test\n",
    "df_test['Spanish']=df_test['Spanish'].apply(lambda x: x[1:-1])\n"
   ]
  },
  {
   "cell_type": "code",
   "execution_count": 40,
   "metadata": {
    "colab": {
     "base_uri": "https://localhost:8080/",
     "height": 221
    },
    "colab_type": "code",
    "id": "MFMyYd84jN8c",
    "outputId": "344c9d98-7b42-4fd6-d42e-45d0ac56eda5"
   },
   "outputs": [
    {
     "name": "stderr",
     "output_type": "stream",
     "text": [
      "/usr/local/lib/python3.6/dist-packages/nltk/translate/bleu_score.py:490: UserWarning: \n",
      "Corpus/Sentence contains 0 counts of 4-gram overlaps.\n",
      "BLEU scores might be undesirable; use SmoothingFunction().\n",
      "  warnings.warn(_msg)\n",
      "/usr/local/lib/python3.6/dist-packages/nltk/translate/bleu_score.py:490: UserWarning: \n",
      "Corpus/Sentence contains 0 counts of 3-gram overlaps.\n",
      "BLEU scores might be undesirable; use SmoothingFunction().\n",
      "  warnings.warn(_msg)\n",
      "/usr/local/lib/python3.6/dist-packages/nltk/translate/bleu_score.py:490: UserWarning: \n",
      "Corpus/Sentence contains 0 counts of 2-gram overlaps.\n",
      "BLEU scores might be undesirable; use SmoothingFunction().\n",
      "  warnings.warn(_msg)\n"
     ]
    }
   ],
   "source": [
    "from nltk.translate.bleu_score import sentence_bleu\n",
    "bleu_score=[]\n",
    "for i in range(20000):\n",
    "  bleu_score.append(sentence_bleu([df_test.iloc[i,2]],df_test.iloc[i,1]))\n",
    "df_test['Bleu score']=bleu_score\n"
   ]
  },
  {
   "cell_type": "code",
   "execution_count": 41,
   "metadata": {
    "colab": {
     "base_uri": "https://localhost:8080/",
     "height": 204
    },
    "colab_type": "code",
    "id": "F0T8RB6t6KI6",
    "outputId": "aeb11445-b01b-470e-ec15-f831203ebd4f"
   },
   "outputs": [
    {
     "data": {
      "text/html": [
       "<div>\n",
       "<style scoped>\n",
       "    .dataframe tbody tr th:only-of-type {\n",
       "        vertical-align: middle;\n",
       "    }\n",
       "\n",
       "    .dataframe tbody tr th {\n",
       "        vertical-align: top;\n",
       "    }\n",
       "\n",
       "    .dataframe thead th {\n",
       "        text-align: right;\n",
       "    }\n",
       "</style>\n",
       "<table border=\"1\" class=\"dataframe\">\n",
       "  <thead>\n",
       "    <tr style=\"text-align: right;\">\n",
       "      <th></th>\n",
       "      <th>English</th>\n",
       "      <th>predict_Spanish</th>\n",
       "      <th>Spanish</th>\n",
       "      <th>Bleu score</th>\n",
       "    </tr>\n",
       "  </thead>\n",
       "  <tbody>\n",
       "    <tr>\n",
       "      <th>43660</th>\n",
       "      <td>tom doesnt work anymore</td>\n",
       "      <td>tom no trabaja trabajo</td>\n",
       "      <td>tom ya no trabaja</td>\n",
       "      <td>0.596162</td>\n",
       "    </tr>\n",
       "    <tr>\n",
       "      <th>87278</th>\n",
       "      <td>we need a doctor its an emergency</td>\n",
       "      <td>necesitamos un diccionario es un extrano</td>\n",
       "      <td>necesitamos un medico es una emergencia</td>\n",
       "      <td>0.581506</td>\n",
       "    </tr>\n",
       "    <tr>\n",
       "      <th>14317</th>\n",
       "      <td>ive done nothing</td>\n",
       "      <td>no he hacho nada</td>\n",
       "      <td>no hice nada</td>\n",
       "      <td>0.416939</td>\n",
       "    </tr>\n",
       "    <tr>\n",
       "      <th>81932</th>\n",
       "      <td>his brother passed away last month</td>\n",
       "      <td>su hermano mayor le perdio la mesa</td>\n",
       "      <td>su hermano ha muerto el mes pasado</td>\n",
       "      <td>0.484952</td>\n",
       "    </tr>\n",
       "    <tr>\n",
       "      <th>95321</th>\n",
       "      <td>who doesnt know such a simple proverb</td>\n",
       "      <td>quien sabe nada de un problema sentido</td>\n",
       "      <td>quien no conoce un proverbio tan simple</td>\n",
       "      <td>0.373444</td>\n",
       "    </tr>\n",
       "  </tbody>\n",
       "</table>\n",
       "</div>"
      ],
      "text/plain": [
       "                                     English  ... Bleu score\n",
       "43660                tom doesnt work anymore  ...   0.596162\n",
       "87278      we need a doctor its an emergency  ...   0.581506\n",
       "14317                       ive done nothing  ...   0.416939\n",
       "81932     his brother passed away last month  ...   0.484952\n",
       "95321  who doesnt know such a simple proverb  ...   0.373444\n",
       "\n",
       "[5 rows x 4 columns]"
      ]
     },
     "execution_count": 41,
     "metadata": {
      "tags": []
     },
     "output_type": "execute_result"
    }
   ],
   "source": [
    "df_test.head()"
   ]
  },
  {
   "cell_type": "code",
   "execution_count": 42,
   "metadata": {
    "colab": {
     "base_uri": "https://localhost:8080/",
     "height": 34
    },
    "colab_type": "code",
    "id": "yPUXqU5dT3tN",
    "outputId": "ccb61adf-48e3-41f5-89c0-98893858ee54"
   },
   "outputs": [
    {
     "name": "stdout",
     "output_type": "stream",
     "text": [
      "BLEU Score: 0.46776780196431644 \n"
     ]
    }
   ],
   "source": [
    "BLEU_mean=df_test['Bleu score'].mean()\n",
    "print(f'BLEU Score: {BLEU_mean} ')"
   ]
  },
  {
   "cell_type": "code",
   "execution_count": 0,
   "metadata": {
    "colab": {},
    "colab_type": "code",
    "id": "vQoJJ4UaT8ki"
   },
   "outputs": [],
   "source": []
  }
 ],
 "metadata": {
  "accelerator": "GPU",
  "colab": {
   "collapsed_sections": [],
   "machine_shape": "hm",
   "name": "HM4.ipynb",
   "provenance": []
  },
  "kernelspec": {
   "display_name": "Python 3",
   "language": "python",
   "name": "python3"
  },
  "language_info": {
   "codemirror_mode": {
    "name": "ipython",
    "version": 3
   },
   "file_extension": ".py",
   "mimetype": "text/x-python",
   "name": "python",
   "nbconvert_exporter": "python",
   "pygments_lexer": "ipython3",
   "version": "3.7.4"
  }
 },
 "nbformat": 4,
 "nbformat_minor": 1
}
